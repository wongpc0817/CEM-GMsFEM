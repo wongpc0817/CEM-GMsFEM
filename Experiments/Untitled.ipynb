{
 "cells": [
  {
   "cell_type": "code",
   "execution_count": 13,
   "id": "1377378b",
   "metadata": {},
   "outputs": [],
   "source": [
    "import matplotlib.pyplot as plt\n",
    "from mpl_toolkits.mplot3d import Axes3D\n",
    "from numpy import load\n",
    "import math\n",
    "import numpy as np\n",
    "\n",
    "PI = np.pi\n",
    "SIN = np.sin\n",
    "COS = np.cos\n",
    "EXP = np.exp\n",
    "LOG = np.log\n",
    "CEIL = math.ceil\n",
    "FINE_GRID=400\n",
    "sec_ind=0 #1,2,3\n",
    "sub_sec_ind=0 #0,1,2,3\n",
    "op=1 #1,2,3\n",
    "\n",
    "data = load(f\"Results/cd_ex3/op_1_{sec_ind}_{sub_sec_ind}.npz\")\n",
    "\n",
    "u0_ms=data['arr_0'].reshape([FINE_GRID+1,FINE_GRID+1])\n",
    "u0_ref=data['arr_1'].reshape([FINE_GRID+1,FINE_GRID+1])\n",
    "\n",
    "x=np.linspace(0,1,FINE_GRID+1)\n",
    "y=np.linspace(0,1,FINE_GRID+1)\n",
    "x,y=np.meshgrid(x,y)\n",
    "fig=plt.figure()\n",
    "ax=fig.add_subplot(111,projection='3d')\n",
    "ax.plot_surface(x,y,u0_ms)\n",
    "fig=plt.figure()\n",
    "ax=fig.add_subplot(111,projection='3d')\n",
    "ax.plot_surface(x,y,u0_ref)"
   ]
  },
  {
   "cell_type": "code",
   "execution_count": null,
   "id": "ef95f0d5",
   "metadata": {},
   "outputs": [],
   "source": []
  }
 ],
 "metadata": {
  "kernelspec": {
   "display_name": "Python 3 (ipykernel)",
   "language": "python",
   "name": "python3"
  },
  "language_info": {
   "codemirror_mode": {
    "name": "ipython",
    "version": 3
   },
   "file_extension": ".py",
   "mimetype": "text/x-python",
   "name": "python",
   "nbconvert_exporter": "python",
   "pygments_lexer": "ipython3",
   "version": "3.9.13"
  }
 },
 "nbformat": 4,
 "nbformat_minor": 5
}
